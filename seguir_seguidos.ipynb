{
 "cells": [
  {
   "cell_type": "code",
   "execution_count": 1,
   "id": "baf2d526",
   "metadata": {},
   "outputs": [],
   "source": [
    "import os\n",
    "from selenium import webdriver\n",
    "import time \n",
    "from selenium.webdriver.common.keys import Keys"
   ]
  },
  {
   "cell_type": "code",
   "execution_count": 2,
   "id": "719c500a",
   "metadata": {},
   "outputs": [],
   "source": [
    "f = open('credenciales.txt', 'r')\n",
    "us = f.readline().strip()\n",
    "pas = f.readline().strip()"
   ]
  },
  {
   "cell_type": "code",
   "execution_count": 3,
   "id": "74933a66",
   "metadata": {},
   "outputs": [],
   "source": [
    "ruta = os.getcwd()\n",
    "driver_path = '{}\\geckodriver.exe'.format(ruta)\n",
    "driver = webdriver.Firefox()\n",
    "driver.get('https://www.instagram.com/')"
   ]
  },
  {
   "cell_type": "code",
   "execution_count": 4,
   "id": "45277cba",
   "metadata": {},
   "outputs": [
    {
     "name": "stderr",
     "output_type": "stream",
     "text": [
      "C:\\Users\\Ana\\AppData\\Local\\Temp\\ipykernel_3792\\3686328649.py:2: DeprecationWarning: find_element_by_* commands are deprecated. Please use find_element() instead\n",
      "  username = driver.find_element_by_name('username')\n",
      "C:\\Users\\Ana\\AppData\\Local\\Temp\\ipykernel_3792\\3686328649.py:7: DeprecationWarning: find_element_by_* commands are deprecated. Please use find_element() instead\n",
      "  password = driver.find_element_by_name('password')\n"
     ]
    }
   ],
   "source": [
    "#find username\n",
    "username = driver.find_element_by_name('username')\n",
    "username.click()\n",
    "username.send_keys(us)\n",
    "\n",
    "#find password\n",
    "password = driver.find_element_by_name('password')\n",
    "password.click()\n",
    "password.send_keys(pas)"
   ]
  },
  {
   "cell_type": "code",
   "execution_count": 6,
   "id": "69a5a1ef",
   "metadata": {},
   "outputs": [
    {
     "name": "stderr",
     "output_type": "stream",
     "text": [
      "C:\\Users\\Ana\\AppData\\Local\\Temp\\ipykernel_3792\\3443195610.py:1: DeprecationWarning: find_element_by_* commands are deprecated. Please use find_element() instead\n",
      "  login = driver.find_element_by_xpath('//div[text()=\"Log In\"]')\n"
     ]
    }
   ],
   "source": [
    "login = driver.find_element_by_xpath('//div[text()=\"Log In\"]')\n",
    "login.click()"
   ]
  },
  {
   "cell_type": "code",
   "execution_count": 7,
   "id": "b6028eb0",
   "metadata": {},
   "outputs": [
    {
     "name": "stderr",
     "output_type": "stream",
     "text": [
      "C:\\Users\\Ana\\AppData\\Local\\Temp\\ipykernel_3792\\2982572242.py:2: DeprecationWarning: find_element_by_* commands are deprecated. Please use find_element() instead\n",
      "  info_se = driver.find_element_by_xpath('//button[text()=\"Not Now\"]')\n"
     ]
    }
   ],
   "source": [
    "try:\n",
    "    info_se = driver.find_element_by_xpath('//button[text()=\"Not Now\"]')\n",
    "    info_se.click()\n",
    "    time.sleep(2)\n",
    "except:\n",
    "    pass"
   ]
  },
  {
   "cell_type": "code",
   "execution_count": 8,
   "id": "66059b79",
   "metadata": {},
   "outputs": [
    {
     "name": "stderr",
     "output_type": "stream",
     "text": [
      "C:\\Users\\Ana\\AppData\\Local\\Temp\\ipykernel_3792\\832281762.py:2: DeprecationWarning: find_element_by_* commands are deprecated. Please use find_element() instead\n",
      "  activ_not = driver.find_element_by_xpath('//button[text()=\"Not Now\"]')\n"
     ]
    }
   ],
   "source": [
    "try:\n",
    "    activ_not = driver.find_element_by_xpath('//button[text()=\"Not Now\"]')\n",
    "    activ_not.click()\n",
    "    time.sleep(2)\n",
    "except:\n",
    "    pass"
   ]
  },
  {
   "cell_type": "code",
   "execution_count": 9,
   "id": "a64fe187",
   "metadata": {},
   "outputs": [
    {
     "name": "stderr",
     "output_type": "stream",
     "text": [
      "C:\\Users\\Ana\\AppData\\Local\\Temp\\ipykernel_3792\\2599725533.py:1: DeprecationWarning: find_element_by_* commands are deprecated. Please use find_element() instead\n",
      "  search = driver.find_element_by_xpath('//div[@class=\" QY4Ed P0xOK\"]/input')\n"
     ]
    }
   ],
   "source": [
    "search = driver.find_element_by_xpath('//div[@class=\" QY4Ed P0xOK\"]/input')\n",
    "search.send_keys('animalessalvajes.365')"
   ]
  },
  {
   "cell_type": "code",
   "execution_count": 10,
   "id": "24f043e7",
   "metadata": {},
   "outputs": [
    {
     "name": "stderr",
     "output_type": "stream",
     "text": [
      "C:\\Users\\Ana\\AppData\\Local\\Temp\\ipykernel_3792\\702819966.py:1: DeprecationWarning: find_element_by_* commands are deprecated. Please use find_element() instead\n",
      "  account = driver.find_element_by_xpath('//div[@class=\"fuqBx \"]/div[1]/a/div')\n"
     ]
    }
   ],
   "source": [
    "account = driver.find_element_by_xpath('//div[@class=\"fuqBx \"]/div[1]/a/div')\n",
    "account.click()"
   ]
  },
  {
   "cell_type": "code",
   "execution_count": 11,
   "id": "a659864c",
   "metadata": {},
   "outputs": [
    {
     "name": "stderr",
     "output_type": "stream",
     "text": [
      "C:\\Users\\Ana\\AppData\\Local\\Temp\\ipykernel_3792\\3006825194.py:1: DeprecationWarning: find_element_by_* commands are deprecated. Please use find_element() instead\n",
      "  seguidos = driver.find_element_by_xpath('//ul[@class=\"k9GMp \"]/li[3]')\n"
     ]
    }
   ],
   "source": [
    "seguidos = driver.find_element_by_xpath('//ul[@class=\"k9GMp \"]/li[3]')\n",
    "seguidos.click()"
   ]
  },
  {
   "cell_type": "code",
   "execution_count": 12,
   "id": "9ee2643e",
   "metadata": {},
   "outputs": [
    {
     "name": "stderr",
     "output_type": "stream",
     "text": [
      "C:\\Users\\Ana\\AppData\\Local\\Temp\\ipykernel_3792\\3205683579.py:1: DeprecationWarning: find_element_by_* commands are deprecated. Please use find_element() instead\n",
      "  cant_seguidos = driver.find_element_by_xpath('//ul[@class=\"k9GMp \"]/li[3]//span')\n"
     ]
    }
   ],
   "source": [
    "cant_seguidos = driver.find_element_by_xpath('//ul[@class=\"k9GMp \"]/li[3]//span')\n",
    "val = int(cant_seguidos.text)/12\n",
    "if not val%2==0:\n",
    "    val+=1\n",
    "val = int(val)"
   ]
  },
  {
   "cell_type": "code",
   "execution_count": 13,
   "id": "26313875",
   "metadata": {},
   "outputs": [],
   "source": [
    "for i in range(val):\n",
    "    driver.execute_script(\"\"\"\n",
    "    let scrollt = document.querySelector('div[role=\"dialog\"] .isgrP')\n",
    "    scrollt.scrollTop = scrollt.scrollHeight\n",
    "    \"\"\")\n",
    "    time.sleep(2.3)"
   ]
  },
  {
   "cell_type": "code",
   "execution_count": 33,
   "id": "e6675c6a",
   "metadata": {},
   "outputs": [
    {
     "name": "stderr",
     "output_type": "stream",
     "text": [
      "C:\\Users\\Ana\\AppData\\Local\\Temp\\ipykernel_2168\\2347528333.py:1: DeprecationWarning: find_elements_by_* commands are deprecated. Please use find_elements() instead\n",
      "  seg = driver.find_elements_by_xpath('//div[@class=\"PZuss\"]/li/div/div[1]/div[2]/div/span/a')\n"
     ]
    }
   ],
   "source": [
    "seg = driver.find_elements_by_xpath('//div[@class=\"PZuss\"]/li/div/div[1]/div[2]/div/span/a')"
   ]
  },
  {
   "cell_type": "code",
   "execution_count": 34,
   "id": "21f7b249",
   "metadata": {},
   "outputs": [],
   "source": [
    "seg = [i.text for i in seg]"
   ]
  },
  {
   "cell_type": "code",
   "execution_count": 35,
   "id": "4ecd6a35",
   "metadata": {},
   "outputs": [
    {
     "data": {
      "text/plain": [
       "['m4rilia.16',\n",
       " 'michele_bavassano',\n",
       " 'wildeyesa',\n",
       " 'wildestafrica',\n",
       " 'extinctanimalsfacts',\n",
       " 'mentesbrillantes_',\n",
       " 'naturein_focus',\n",
       " 'amit.chavan.1690',\n",
       " 'buceo_conciencia',\n",
       " 'imsimon',\n",
       " 'esrodrigoblanco',\n",
       " 'sharewildlife',\n",
       " 'carnivorousplant_club',\n",
       " 'proteccion_animal_mundial',\n",
       " 'gyyporama',\n",
       " 'expertphotography',\n",
       " 'jeffreypatrickkarnes',\n",
       " 'rafa_varona',\n",
       " 'africasafariworld',\n",
       " 'thewild.memories',\n",
       " 'human.kind.photography',\n",
       " 'yswildlifephotography',\n",
       " 'animalsplanetnow',\n",
       " 'ozzierisso',\n",
       " 'wildlifephotographycompetition',\n",
       " 'donalboyd',\n",
       " 'simplecraftsonly',\n",
       " 'jerometraveller',\n",
       " 'kikeshots',\n",
       " 'kikearnaiz',\n",
       " 'planetadeagostini_es',\n",
       " 'filmup.co',\n",
       " 'supergadgets.pe',\n",
       " 'ox.viveparacrear',\n",
       " 'natgeolatam',\n",
       " 'estrellita_fugaz2010',\n",
       " 'exoticosysilvestres',\n",
       " 'editorial_berlin',\n",
       " 'arequipa.vibes',\n",
       " 'wavestowildernessexperiences',\n",
       " 'misplantasmedicinales',\n",
       " 'fundacionaquae',\n",
       " 'oxycheckpro',\n",
       " 'faunayaccion',\n",
       " 'covid.esp',\n",
       " 'srconejito',\n",
       " 'kevinbiskaborn',\n",
       " 'best_wild_planet',\n",
       " 'koalawheels',\n",
       " 'untold_nature',\n",
       " 'bjwtblue',\n",
       " 'discover.animal',\n",
       " 'junglebeings',\n",
       " 'amanaturis',\n",
       " 'anigrammx',\n",
       " 'luxurtraveller',\n",
       " 'cruzysuzy',\n",
       " 'nature',\n",
       " 'raqueleaillyne',\n",
       " 'historiasvidaycafe',\n",
       " 'planeta_curios0',\n",
       " 'mister_salvaje',\n",
       " 'natgeotravel',\n",
       " 'discovery',\n",
       " 'natgeo']"
      ]
     },
     "execution_count": 35,
     "metadata": {},
     "output_type": "execute_result"
    }
   ],
   "source": [
    "seg"
   ]
  },
  {
   "cell_type": "code",
   "execution_count": 36,
   "id": "8f3a6bdf",
   "metadata": {},
   "outputs": [],
   "source": [
    "contador = 0"
   ]
  },
  {
   "cell_type": "code",
   "execution_count": 37,
   "id": "5a022ef2",
   "metadata": {},
   "outputs": [
    {
     "name": "stderr",
     "output_type": "stream",
     "text": [
      "C:\\Users\\Ana\\AppData\\Local\\Temp\\ipykernel_2168\\2758125794.py:4: DeprecationWarning: find_element_by_* commands are deprecated. Please use find_element() instead\n",
      "  driver.find_element_by_xpath('//span[@class=\"FLeXg bqE32\"]//span[1]//button').click()\n",
      "C:\\Users\\Ana\\AppData\\Local\\Temp\\ipykernel_2168\\2758125794.py:6: DeprecationWarning: find_element_by_* commands are deprecated. Please use find_element() instead\n",
      "  driver.find_element_by_xpath('//div[@class=\"             qF0y9          Igw0E     IwRSH      eGOV_        vwCYk                                                                                                               \"]//button').click()\n"
     ]
    }
   ],
   "source": [
    "for i in seg:\n",
    "    driver.get('https://www.instagram.com/'+i)\n",
    "    try:\n",
    "        driver.find_element_by_xpath('//span[@class=\"FLeXg bqE32\"]//span[1]//button').click()\n",
    "    except:\n",
    "        driver.find_element_by_xpath('//div[@class=\"             qF0y9          Igw0E     IwRSH      eGOV_        vwCYk                                                                                                               \"]//button').click()\n",
    "    contador +=1\n",
    "    \n",
    "    if contador == 30:\n",
    "        contador = 0\n",
    "        time.sleep(30)\n",
    "        \n",
    "    time.sleep(5)"
   ]
  },
  {
   "cell_type": "code",
   "execution_count": null,
   "id": "1debaf5e",
   "metadata": {},
   "outputs": [],
   "source": []
  }
 ],
 "metadata": {
  "kernelspec": {
   "display_name": "Python 3 (ipykernel)",
   "language": "python",
   "name": "python3"
  },
  "language_info": {
   "codemirror_mode": {
    "name": "ipython",
    "version": 3
   },
   "file_extension": ".py",
   "mimetype": "text/x-python",
   "name": "python",
   "nbconvert_exporter": "python",
   "pygments_lexer": "ipython3",
   "version": "3.10.2"
  }
 },
 "nbformat": 4,
 "nbformat_minor": 5
}
