{
 "cells": [
  {
   "cell_type": "code",
   "execution_count": 4,
   "id": "a47917b9",
   "metadata": {},
   "outputs": [],
   "source": [
    "import os\n",
    "from selenium import webdriver\n",
    "import time \n",
    "from selenium.webdriver.common.keys import Keys"
   ]
  },
  {
   "cell_type": "code",
   "execution_count": 5,
   "id": "777727c3",
   "metadata": {},
   "outputs": [],
   "source": [
    "f = open('credenciales.txt', 'r')\n",
    "us = f.readline().strip()\n",
    "pas = f.readline().strip()"
   ]
  },
  {
   "cell_type": "code",
   "execution_count": 6,
   "id": "e9a2cb27",
   "metadata": {},
   "outputs": [],
   "source": [
    "ruta = os.getcwd()\n",
    "driver_path = '{}\\geckodriver.exe'.format(ruta)\n",
    "driver = webdriver.Firefox()\n",
    "driver.get('https://www.instagram.com/')"
   ]
  },
  {
   "cell_type": "code",
   "execution_count": 7,
   "id": "f036d32b",
   "metadata": {},
   "outputs": [
    {
     "name": "stderr",
     "output_type": "stream",
     "text": [
      "C:\\Users\\Ana\\AppData\\Local\\Temp\\ipykernel_124\\3686328649.py:2: DeprecationWarning: find_element_by_* commands are deprecated. Please use find_element() instead\n",
      "  username = driver.find_element_by_name('username')\n",
      "C:\\Users\\Ana\\AppData\\Local\\Temp\\ipykernel_124\\3686328649.py:7: DeprecationWarning: find_element_by_* commands are deprecated. Please use find_element() instead\n",
      "  password = driver.find_element_by_name('password')\n"
     ]
    }
   ],
   "source": [
    "#find username\n",
    "username = driver.find_element_by_name('username')\n",
    "username.click()\n",
    "username.send_keys(us)\n",
    "\n",
    "#find password\n",
    "password = driver.find_element_by_name('password')\n",
    "password.click()\n",
    "password.send_keys(pas)"
   ]
  },
  {
   "cell_type": "code",
   "execution_count": 8,
   "id": "83444215",
   "metadata": {},
   "outputs": [
    {
     "name": "stderr",
     "output_type": "stream",
     "text": [
      "C:\\Users\\Ana\\AppData\\Local\\Temp\\ipykernel_124\\3443195610.py:1: DeprecationWarning: find_element_by_* commands are deprecated. Please use find_element() instead\n",
      "  login = driver.find_element_by_xpath('//div[text()=\"Log In\"]')\n"
     ]
    }
   ],
   "source": [
    "login = driver.find_element_by_xpath('//div[text()=\"Log In\"]')\n",
    "login.click()"
   ]
  },
  {
   "cell_type": "code",
   "execution_count": 9,
   "id": "eba72dd7",
   "metadata": {},
   "outputs": [
    {
     "name": "stderr",
     "output_type": "stream",
     "text": [
      "C:\\Users\\Ana\\AppData\\Local\\Temp\\ipykernel_124\\2982572242.py:2: DeprecationWarning: find_element_by_* commands are deprecated. Please use find_element() instead\n",
      "  info_se = driver.find_element_by_xpath('//button[text()=\"Not Now\"]')\n"
     ]
    }
   ],
   "source": [
    "try:\n",
    "    info_se = driver.find_element_by_xpath('//button[text()=\"Not Now\"]')\n",
    "    info_se.click()\n",
    "    time.sleep(2)\n",
    "except:\n",
    "    pass"
   ]
  },
  {
   "cell_type": "code",
   "execution_count": 10,
   "id": "79eaefe7",
   "metadata": {},
   "outputs": [
    {
     "name": "stderr",
     "output_type": "stream",
     "text": [
      "C:\\Users\\Ana\\AppData\\Local\\Temp\\ipykernel_124\\832281762.py:2: DeprecationWarning: find_element_by_* commands are deprecated. Please use find_element() instead\n",
      "  activ_not = driver.find_element_by_xpath('//button[text()=\"Not Now\"]')\n"
     ]
    }
   ],
   "source": [
    "try:\n",
    "    activ_not = driver.find_element_by_xpath('//button[text()=\"Not Now\"]')\n",
    "    activ_not.click()\n",
    "    time.sleep(2)\n",
    "except:\n",
    "    pass"
   ]
  },
  {
   "cell_type": "code",
   "execution_count": 11,
   "id": "41d98e10",
   "metadata": {},
   "outputs": [
    {
     "name": "stderr",
     "output_type": "stream",
     "text": [
      "C:\\Users\\Ana\\AppData\\Local\\Temp\\ipykernel_124\\4069007879.py:1: DeprecationWarning: find_element_by_* commands are deprecated. Please use find_element() instead\n",
      "  buscar = driver.find_element_by_xpath('//input[@placeholder=\"Search\"]')\n"
     ]
    }
   ],
   "source": [
    "buscar = driver.find_element_by_xpath('//input[@placeholder=\"Search\"]')\n",
    "buscar.send_keys('animales_tiernos_')"
   ]
  },
  {
   "cell_type": "code",
   "execution_count": 15,
   "id": "ab3c27d4",
   "metadata": {},
   "outputs": [
    {
     "name": "stderr",
     "output_type": "stream",
     "text": [
      "C:\\Users\\Ana\\AppData\\Local\\Temp\\ipykernel_7924\\594209938.py:1: DeprecationWarning: find_elements_by_* commands are deprecated. Please use find_elements() instead\n",
      "  urls = driver.find_elements_by_xpath('//a[@class=\"-qQT3\"]')\n"
     ]
    }
   ],
   "source": [
    "urls = driver.find_elements_by_xpath('//a[@class=\"-qQT3\"]')"
   ]
  },
  {
   "cell_type": "code",
   "execution_count": 16,
   "id": "aa1b6787",
   "metadata": {},
   "outputs": [],
   "source": [
    "urls = [i.get_attribute('href') for i in urls]"
   ]
  },
  {
   "cell_type": "code",
   "execution_count": 17,
   "id": "305ec7ab",
   "metadata": {},
   "outputs": [
    {
     "data": {
      "text/plain": [
       "['https://www.instagram.com/animales_tiernos_/',\n",
       " 'https://www.instagram.com/animales__tiernos_/',\n",
       " 'https://www.instagram.com/memes_del_michi/',\n",
       " 'https://www.instagram.com/animales_graciosos_y_tiernos/',\n",
       " 'https://www.instagram.com/animales_bebe_tiernos_/',\n",
       " 'https://www.instagram.com/tiernosanimales06/',\n",
       " 'https://www.instagram.com/animales_salvajes_y_tiernos/',\n",
       " 'https://www.instagram.com/_animales_tiernos_/',\n",
       " 'https://www.instagram.com/tiernos_animales_/',\n",
       " 'https://www.instagram.com/_animales__tiernos_/',\n",
       " 'https://www.instagram.com/animalest_i_e_r_n_o_s/',\n",
       " 'https://www.instagram.com/animales_tiernos_2003/',\n",
       " 'https://www.instagram.com/animales_tiernos/',\n",
       " 'https://www.instagram.com/animales_tiernos01_bebes/',\n",
       " 'https://www.instagram.com/animales_tiernos_oficial/',\n",
       " 'https://www.instagram.com/_animalestiernos_/',\n",
       " 'https://www.instagram.com/increiblesmascotas/',\n",
       " 'https://www.instagram.com/animales_tiernos_1/',\n",
       " 'https://www.instagram.com/animalestiernos/',\n",
       " 'https://www.instagram.com/videosdeperrostier/',\n",
       " 'https://www.instagram.com/itiernos_animales/',\n",
       " 'https://www.instagram.com/animales_tiernos16/',\n",
       " 'https://www.instagram.com/animales_tiernos__/',\n",
       " 'https://www.instagram.com/animalestiernos___/',\n",
       " 'https://www.instagram.com/explore/tags/animales__tiernos_/',\n",
       " 'https://www.instagram.com/perrigat_club/',\n",
       " 'https://www.instagram.com/animales._.tiernos/',\n",
       " 'https://www.instagram.com/todos_los_animales_tiernos/',\n",
       " 'https://www.instagram.com/animalesbebessupertiernos/',\n",
       " 'https://www.instagram.com/animalitos_.tiernos._/',\n",
       " 'https://www.instagram.com/animales_tiernos_kawaii/',\n",
       " 'https://www.instagram.com/animales_tiernos_cute/',\n",
       " 'https://www.instagram.com/animal_photo/',\n",
       " 'https://www.instagram.com/animales.tiernos17/',\n",
       " 'https://www.instagram.com/_animalestiernos/',\n",
       " 'https://www.instagram.com/animales_cuchis/',\n",
       " 'https://www.instagram.com/explore/locations/101787668308338/animales-tiernos/',\n",
       " 'https://www.instagram.com/animales_tiernos2/',\n",
       " 'https://www.instagram.com/animales__tiernos/',\n",
       " 'https://www.instagram.com/animales_tiernos_memes/',\n",
       " 'https://www.instagram.com/_animales.tiernos_/',\n",
       " 'https://www.instagram.com/animales_.tiernos/',\n",
       " 'https://www.instagram.com/animalitos._lindos/',\n",
       " 'https://www.instagram.com/tiernos__animales/',\n",
       " 'https://www.instagram.com/mujeressupersexys/',\n",
       " 'https://www.instagram.com/animales_tiernos_instaurar/',\n",
       " 'https://www.instagram.com/animales_tiernos_15/',\n",
       " 'https://www.instagram.com/animales_tiernos_del_mundo/',\n",
       " 'https://www.instagram.com/animales_tiernos_al_100/',\n",
       " 'https://www.instagram.com/animalestiernis/',\n",
       " 'https://www.instagram.com/supertiernos3/',\n",
       " 'https://www.instagram.com/animalitos_tiernos_22/',\n",
       " 'https://www.instagram.com/animales_tiernos_y_lindos/',\n",
       " 'https://www.instagram.com/amimalitostiernos/',\n",
       " 'https://www.instagram.com/animales_tiernos_y_curiosos/']"
      ]
     },
     "execution_count": 17,
     "metadata": {},
     "output_type": "execute_result"
    }
   ],
   "source": [
    "urls"
   ]
  },
  {
   "cell_type": "code",
   "execution_count": 12,
   "id": "49a6fb5b",
   "metadata": {},
   "outputs": [
    {
     "name": "stderr",
     "output_type": "stream",
     "text": [
      "C:\\Users\\Ana\\AppData\\Local\\Temp\\ipykernel_124\\278151806.py:1: DeprecationWarning: find_element_by_* commands are deprecated. Please use find_element() instead\n",
      "  cuenta = driver.find_element_by_xpath('//div[@class=\"fuqBx \"]//div[1]//a')\n"
     ]
    }
   ],
   "source": [
    "account = driver.find_element_by_xpath('//div[@class=\"fuqBx \"]//div[1]//a')\n",
    "account.click()"
   ]
  },
  {
   "cell_type": "code",
   "execution_count": 22,
   "id": "88027d24",
   "metadata": {},
   "outputs": [
    {
     "name": "stderr",
     "output_type": "stream",
     "text": [
      "C:\\Users\\Ana\\AppData\\Local\\Temp\\ipykernel_124\\3006825194.py:1: DeprecationWarning: find_element_by_* commands are deprecated. Please use find_element() instead\n",
      "  seguidos = driver.find_element_by_xpath('//ul[@class=\"k9GMp \"]/li[3]')\n"
     ]
    }
   ],
   "source": [
    "seguidos = driver.find_element_by_xpath('//ul[@class=\"k9GMp \"]/li[3]')\n",
    "seguidos.click()"
   ]
  },
  {
   "cell_type": "code",
   "execution_count": 23,
   "id": "e2d3497a",
   "metadata": {},
   "outputs": [
    {
     "name": "stderr",
     "output_type": "stream",
     "text": [
      "C:\\Users\\Ana\\AppData\\Local\\Temp\\ipykernel_124\\2752159289.py:1: DeprecationWarning: find_element_by_* commands are deprecated. Please use find_element() instead\n",
      "  cant_seguidos = driver.find_element_by_xpath('//ul[@class=\"k9GMp \"]/li[3]//span')\n"
     ]
    }
   ],
   "source": [
    "cant_seguidos = driver.find_element_by_xpath('//ul[@class=\"k9GMp \"]/li[3]//span')\n",
    "val = int(cant_seguidos.text)/12\n",
    "if not val%2==0:\n",
    "    val+=1\n",
    "val = int(val)\n"
   ]
  },
  {
   "cell_type": "code",
   "execution_count": 24,
   "id": "50aef1e8",
   "metadata": {},
   "outputs": [],
   "source": [
    "for i in range(val):\n",
    "    driver.execute_script(\"\"\"\n",
    "    let scrollt = document.querySelector('div[role=\"dialog\"] .isgrP')\n",
    "    scrollt.scrollTop = scrollt.scrollHeight\n",
    "    \"\"\")\n",
    "    time.sleep(2.3)"
   ]
  },
  {
   "cell_type": "code",
   "execution_count": 25,
   "id": "41e0fe83",
   "metadata": {},
   "outputs": [
    {
     "name": "stderr",
     "output_type": "stream",
     "text": [
      "C:\\Users\\Ana\\AppData\\Local\\Temp\\ipykernel_124\\2347528333.py:1: DeprecationWarning: find_elements_by_* commands are deprecated. Please use find_elements() instead\n",
      "  seg = driver.find_elements_by_xpath('//div[@class=\"PZuss\"]/li/div/div[1]/div[2]/div/span/a')\n"
     ]
    }
   ],
   "source": [
    "seg = driver.find_elements_by_xpath('//div[@class=\"PZuss\"]/li/div/div[1]/div[2]/div/span/a')"
   ]
  },
  {
   "cell_type": "code",
   "execution_count": 26,
   "id": "76e66acd",
   "metadata": {},
   "outputs": [],
   "source": [
    "seg = [i.text for i in seg]"
   ]
  },
  {
   "cell_type": "code",
   "execution_count": 27,
   "id": "f0811131",
   "metadata": {},
   "outputs": [
    {
     "data": {
      "text/plain": [
       "['iamnash1_',\n",
       " 'joshuababyy',\n",
       " '7moodgh97',\n",
       " 'kidd.keim',\n",
       " 'rafaellsilva01',\n",
       " 'jem_alsina',\n",
       " 'rachele.davenezia',\n",
       " 'amineelmanhaji',\n",
       " 'stairwayzay',\n",
       " 'layhs',\n",
       " 'just_dimples23',\n",
       " 'sarah_nade_',\n",
       " 'naikisonmyfeed',\n",
       " 'satriowr_',\n",
       " 'stipomiljak',\n",
       " 'johnnnyparker',\n",
       " 'cksv_',\n",
       " 'jeannecrts',\n",
       " 'gaboemil',\n",
       " 'dimisouza1',\n",
       " 'mirelleprantl',\n",
       " 'manonpvf',\n",
       " '_yourlocalrose_',\n",
       " 'tayyenny__',\n",
       " 'sebafigueroa20',\n",
       " 'wafi7700',\n",
       " 'reecegreeen',\n",
       " 'v_a_l_e_r_io',\n",
       " 'amygarland',\n",
       " 'annebikelel',\n",
       " 'saronzz_',\n",
       " 'marcelo_cintra',\n",
       " 'w.zmovirzynski',\n",
       " 'almzaien_w',\n",
       " 'allie.__',\n",
       " 'kathysobarzo',\n",
       " 'sofia_nedvedsky',\n",
       " 'mba7mad',\n",
       " 'm_l0l8',\n",
       " 'essa12991',\n",
       " 'charliejiatz',\n",
       " 'allison.taylor98',\n",
       " 'breeofficially_',\n",
       " 'dasilva_sabrina',\n",
       " 'kikocandas',\n",
       " 'snow.party__',\n",
       " 'emmabovien',\n",
       " 'hannahbevel',\n",
       " 'caaazevedo_',\n",
       " 'mtizapa11',\n",
       " 'bma97',\n",
       " 'oli_dillon',\n",
       " 'interiordesign.dk',\n",
       " 'nawaf_rzh1',\n",
       " 'moayadsq',\n",
       " 'na55im',\n",
       " 'bu_mahera',\n",
       " 'aktfat_bk',\n",
       " 'julanunez',\n",
       " 'mariahh.cannon',\n",
       " 'raf_tex',\n",
       " 'jasminemariexox',\n",
       " 'saad.n.alkhaldi',\n",
       " 'antonio_buckreus',\n",
       " '_ee.lizz',\n",
       " 'sexxandburgers',\n",
       " 'smileyes',\n",
       " 'ppperbutter',\n",
       " 'sultanshnb',\n",
       " 'z.c71',\n",
       " 'majid_khedri',\n",
       " 'just__bre',\n",
       " 'turkey_alyami',\n",
       " 'ertron',\n",
       " 'bt9boots',\n",
       " 'effortlessnamezz',\n",
       " 'm.qh',\n",
       " 'oomoodyoo',\n",
       " 'wanderfully__lost_',\n",
       " 'zaina_blackangel',\n",
       " 'rachelle',\n",
       " '2aqp',\n",
       " 'a_alfadli11',\n",
       " 'imdrww',\n",
       " 'magicalmanger88',\n",
       " 'misha_khrr',\n",
       " 'y95ii',\n",
       " 'juliebergmannk',\n",
       " 'manayer_7_',\n",
       " 'ceejayzzle',\n",
       " 'waynegichie',\n",
       " 'metroapero',\n",
       " '3m__77',\n",
       " 'teelsantos',\n",
       " 'capisho',\n",
       " 'sergiomajestik',\n",
       " 'aymanamish1',\n",
       " 'h.218',\n",
       " 'imursgram',\n",
       " '5pewhmhmcfymfymymdyjd',\n",
       " 'gerinhamorais',\n",
       " 'm_q8.9',\n",
       " 'hoodaa1233',\n",
       " 'pewlin',\n",
       " 'j.90',\n",
       " 'l.9f',\n",
       " 'ka._17',\n",
       " 'dr_mario600',\n",
       " 'dandara_jo',\n",
       " 'ab____221',\n",
       " 'c_o8',\n",
       " 'ethan__jolley',\n",
       " 'ezequielgrosso1',\n",
       " 'al3bewii',\n",
       " 'niaf0',\n",
       " 'gobbindsingh',\n",
       " 'kokalot',\n",
       " 'besties_foreverlol',\n",
       " 'irisstryx',\n",
       " 'ffah1992',\n",
       " 'toto_aluamy_',\n",
       " 'shmoo5__777',\n",
       " 'laci._hoover',\n",
       " 'geek_ae',\n",
       " 'bakir_nardeenwedding',\n",
       " 'just_your_casual_fangirl',\n",
       " 'mike_cray19',\n",
       " 'hxrry.rxmmell',\n",
       " 'blondieeee420',\n",
       " 'ryan_and_tahoe',\n",
       " 'q88.56',\n",
       " 'hichamfzz',\n",
       " 'a_hadid12',\n",
       " 'insta_wettis0',\n",
       " 'abod503sb',\n",
       " 'callietroutmanphotography',\n",
       " 'morganharrold',\n",
       " 'sxxvve',\n",
       " 'tbaguetje',\n",
       " 'anaah_liviaah',\n",
       " 'nardeenwedding',\n",
       " 'wt9',\n",
       " 'habendebesay',\n",
       " 'shoutouts4udooe',\n",
       " 'fahad_algazy',\n",
       " 'nonouhnab',\n",
       " 'talya_h12',\n",
       " 'thunderbuddi_',\n",
       " 'truesserg16',\n",
       " 'ppolanzan1',\n",
       " '_my_world_is_beautiful_',\n",
       " 'lamaja.underwear',\n",
       " 'awais_y',\n",
       " 'slappinlouisbumm',\n",
       " 'awkwardphotography_',\n",
       " 'shaa3eer',\n",
       " 'homtakx',\n",
       " 'shaelyn_paige',\n",
       " 'bnf509',\n",
       " 'mode_72',\n",
       " 'colorfulme22',\n",
       " 'sma6iyah',\n",
       " 'moo9o00',\n",
       " 'ridingonheels',\n",
       " 'ttttttttrrtfdeffft',\n",
       " 'thenightman5',\n",
       " 'king__shoutz',\n",
       " 'nona80x',\n",
       " 'shout_for_life4',\n",
       " 'a_red_crayola',\n",
       " 'iaalkhalaf',\n",
       " 'queen_memo96',\n",
       " 'ez3loon',\n",
       " 'southern_mud_boggin',\n",
       " 'afekafek_',\n",
       " 'carlys_my_babe_3_12_14',\n",
       " 'badooor_kuw',\n",
       " 'mandikinss',\n",
       " 'shoutouts_specially4u',\n",
       " 'eddy___gee15',\n",
       " 'aljoker46',\n",
       " 'azez_alagoul',\n",
       " 'donovanbittern',\n",
       " '1thebestshoutout1',\n",
       " 'mark_ncy',\n",
       " '_diana.ba',\n",
       " 'otfff_youngin',\n",
       " 'faten_39',\n",
       " 'wn_photography01',\n",
       " 'makingyoufamous1',\n",
       " 'ggff502',\n",
       " 'n.eei6',\n",
       " 'uniq_trade',\n",
       " 'abosultanq88',\n",
       " 'kppyn_shop',\n",
       " 'rationalvincent',\n",
       " 'hazim_alslimani',\n",
       " '333_7z',\n",
       " 'jankovdavid',\n",
       " 'yaaz76',\n",
       " 'nwawf121',\n",
       " 'al_amriy',\n",
       " 'zoooze356437',\n",
       " '3r8oob',\n",
       " 'alaa_dzienne',\n",
       " 'oroad_77',\n",
       " 'tote_6120',\n",
       " '7mne_509',\n",
       " 'huthayfah_alshomer',\n",
       " 'jus_buckets',\n",
       " 'catacurtida',\n",
       " 'rakan_alsnzi',\n",
       " 'uae4share',\n",
       " '0_joaolucas_0',\n",
       " 'regis_santoss',\n",
       " 'madridgarden',\n",
       " '_tumblr__page',\n",
       " 'sraab_kk',\n",
       " 'tuurkiye',\n",
       " 'shoutout_new_2014',\n",
       " 'chvrchburners',\n",
       " 'nawafooo46',\n",
       " 'caml_photos',\n",
       " 'writer_19996',\n",
       " '___fashionpassion__',\n",
       " 'pia_pichi',\n",
       " 'amoorah.80',\n",
       " 'tt4cc',\n",
       " 'onedirectionlovers8',\n",
       " 'tathker___',\n",
       " 'besho2482',\n",
       " 'fvddrtfdtfdftt',\n",
       " 'malook_108',\n",
       " 'mxem_',\n",
       " '502xdossry',\n",
       " 'slmaan700',\n",
       " 'haooos84',\n",
       " 'takf_3']"
      ]
     },
     "execution_count": 27,
     "metadata": {},
     "output_type": "execute_result"
    }
   ],
   "source": [
    "seg"
   ]
  },
  {
   "cell_type": "code",
   "execution_count": null,
   "id": "ac63e650",
   "metadata": {},
   "outputs": [],
   "source": []
  }
 ],
 "metadata": {
  "kernelspec": {
   "display_name": "Python 3 (ipykernel)",
   "language": "python",
   "name": "python3"
  },
  "language_info": {
   "codemirror_mode": {
    "name": "ipython",
    "version": 3
   },
   "file_extension": ".py",
   "mimetype": "text/x-python",
   "name": "python",
   "nbconvert_exporter": "python",
   "pygments_lexer": "ipython3",
   "version": "3.10.2"
  }
 },
 "nbformat": 4,
 "nbformat_minor": 5
}
